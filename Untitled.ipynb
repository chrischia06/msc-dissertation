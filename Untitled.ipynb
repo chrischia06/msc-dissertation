{
 "cells": [
  {
   "cell_type": "code",
   "execution_count": 1,
   "id": "95a7b489-bbfb-4f32-bbdf-2dc6c88c6092",
   "metadata": {},
   "outputs": [],
   "source": [
    "import numpy as np\n",
    "import torch\n",
    "import datetime as dt"
   ]
  },
  {
   "cell_type": "code",
   "execution_count": 114,
   "id": "03f0f369-1c9c-452a-bab3-db7c21e7593e",
   "metadata": {},
   "outputs": [
    {
     "ename": "SyntaxError",
     "evalue": "invalid syntax (853798429.py, line 1)",
     "output_type": "error",
     "traceback": [
      "\u001b[0;36m  File \u001b[0;32m\"/var/folders/gg/bdgg0c0n28x14l2hd83rbx3c0000gn/T/ipykernel_14336/853798429.py\"\u001b[0;36m, line \u001b[0;32m1\u001b[0m\n\u001b[0;31m    https://github.com/mgroncki/IPythonScripts/blob/master/PricingPyTorch/BarrierOptionGPU.ipynb\u001b[0m\n\u001b[0m          ^\u001b[0m\n\u001b[0;31mSyntaxError\u001b[0m\u001b[0;31m:\u001b[0m invalid syntax\n"
     ]
    }
   ],
   "source": [
    "https://github.com/mgroncki/IPythonScripts/blob/master/PricingPyTorch/BarrierOptionGPU.ipynb"
   ]
  },
  {
   "cell_type": "code",
   "execution_count": 98,
   "id": "4890a79c-8e66-4471-90ea-17b363c3e07c",
   "metadata": {},
   "outputs": [
    {
     "name": "stdout",
     "output_type": "stream",
     "text": [
      "[1.7543715]\n",
      "Gamma [1.7543715]\n"
     ]
    }
   ],
   "source": [
    "import torch\n",
    "from torch import autograd\n",
    "S = torch.tensor([1.],requires_grad=True)\n",
    "K = torch.tensor([1.1],requires_grad=True)\n",
    "T = torch.tensor([2.],requires_grad=True)\n",
    "sigma = torch.tensor([0.2],requires_grad=True)\n",
    "r = torch.tensor([0.03],requires_grad=True)\n",
    "B = torch.tensor([0.3],requires_grad=True)\n",
    "steps = 100\n",
    "N_PATHS = 10000\n",
    "dt = T / steps\n",
    "from numpy.random import default_rng\n",
    "rng = default_rng(42)\n",
    "Z = torch.tensor(rng.standard_normal((N_PATHS, steps)))\n",
    "\n",
    "B_shift = B*torch.exp(0.5826*sigma*torch.sqrt(dt))\n",
    "S_T = S * torch.exp((r - 0.5 * (sigma ** 2)) * T + torch.cumsum(torch.sqrt(dt) * Z, 1))\n",
    "non_touch = (torch.min(S_T, axis=1)[0] > B_shift)*1\n",
    "# non_touch = torch.tensor(1.0)\n",
    "npv = torch.exp(-T*r) * torch.mean(torch.maximum(S_T[:,-1] - K, torch.tensor(0.0)))\n",
    "npv = torch.mean(torch.maximum(S_T, torch.tensor([0.0])))\n",
    "npv.backward(retain_graph=True)\n",
    "grads = S.grad.numpy() #, K.grad.numpy(), T.grad.numpy(), r.grad.numpy(), B.grad\n",
    "print(grads)\n",
    "gradient, = torch.autograd.grad(npv, S, create_graph=True)\n",
    "gradient.backward()\n",
    "gamma = S.grad.numpy()\n",
    "print('Gamma', gamma)\n"
   ]
  },
  {
   "cell_type": "code",
   "execution_count": 54,
   "id": "22baf849-729b-4ee5-8d21-2bbe9641c5e4",
   "metadata": {},
   "outputs": [
    {
     "data": {
      "text/plain": [
       "(tensor([27.], grad_fn=<MulBackward0>), tensor([18.]))"
      ]
     },
     "execution_count": 54,
     "metadata": {},
     "output_type": "execute_result"
    }
   ],
   "source": [
    "S = torch.tensor([3.0], requires_grad = True)\n",
    "y = S ** 3\n",
    "grad, = torch.autograd.grad(y, S, create_graph=True, retain_graph=True)\n",
    "# torch.autograd.grad(grad, S, retain_graph=True)\n",
    "# y.backward()\n",
    "grad.backward()\n",
    "grad, S.grad"
   ]
  },
  {
   "cell_type": "code",
   "execution_count": 20,
   "id": "53164594-ac89-41a4-9484-b390f4611ae0",
   "metadata": {},
   "outputs": [
    {
     "data": {
      "text/plain": [
       "(tensor([2.], grad_fn=<MulBackward0>),)"
      ]
     },
     "execution_count": 20,
     "metadata": {},
     "output_type": "execute_result"
    }
   ],
   "source": [
    "gradient."
   ]
  },
  {
   "cell_type": "code",
   "execution_count": 12,
   "id": "2efd91d3-a798-4b6e-a90e-ea7c25b584b8",
   "metadata": {},
   "outputs": [
    {
     "data": {
      "text/plain": [
       "tensor([0.0000, 0.0000, 0.0000,  ..., 0.0000, 8.1798, 3.5078],\n",
       "       dtype=torch.float64, grad_fn=<MaximumBackward0>)"
      ]
     },
     "execution_count": 12,
     "metadata": {},
     "output_type": "execute_result"
    }
   ],
   "source": [
    "torch.maximum(S_T[:,-1] - K, torch.tensor(0.0))"
   ]
  },
  {
   "cell_type": "code",
   "execution_count": 176,
   "id": "c920ddfc-f69a-4434-8266-48b720b9111e",
   "metadata": {},
   "outputs": [
    {
     "name": "stdout",
     "output_type": "stream",
     "text": [
      "Delta:  tensor([0.5597], grad_fn=<AddBackward0>)\n",
      "Gamma tensor([0.5728])\n"
     ]
    }
   ],
   "source": [
    "def blackScholes_pyTorch(S_0, strike, time_to_expiry, implied_vol, riskfree_rate):\n",
    "    S = S_0\n",
    "    K = strike\n",
    "    dt = time_to_expiry\n",
    "    sigma = implied_vol\n",
    "    r = riskfree_rate\n",
    "    Phi = torch.distributions.Normal(0,1).cdf\n",
    "    d_1 = (torch.log(S_0 / K) + (r+sigma**2/2)*dt) / (sigma*torch.sqrt(dt))\n",
    "    d_2 = d_1 - sigma*torch.sqrt(dt)\n",
    "    return S*Phi(d_1) - K*torch.exp(-r*dt)*Phi(d_2)\n",
    "\n",
    "S_0 = torch.tensor([100.],requires_grad=True)\n",
    "K = torch.tensor([101.],requires_grad=True)\n",
    "T = torch.tensor([1.],requires_grad=True)\n",
    "sigma = torch.tensor([0.3],requires_grad=True)\n",
    "r = torch.tensor([0.01],requires_grad=True)\n",
    "npv_pytorch = blackScholes_pyTorch(S_0, K, T, sigma, r)\n",
    "npv_pytorch.backward(retain_graph=True)\n",
    "gradient = torch.autograd.grad(npv_pytorch, S_0, create_graph=True)\n",
    "delta, =  gradient\n",
    "delta.backward(retain_graph=True)\n",
    "print('Delta: ', delta)\n",
    "print('Gamma', S_0.grad)"
   ]
  }
 ],
 "metadata": {
  "kernelspec": {
   "display_name": "Python 3 (ipykernel)",
   "language": "python",
   "name": "python3"
  },
  "language_info": {
   "codemirror_mode": {
    "name": "ipython",
    "version": 3
   },
   "file_extension": ".py",
   "mimetype": "text/x-python",
   "name": "python",
   "nbconvert_exporter": "python",
   "pygments_lexer": "ipython3",
   "version": "3.9.1"
  }
 },
 "nbformat": 4,
 "nbformat_minor": 5
}
