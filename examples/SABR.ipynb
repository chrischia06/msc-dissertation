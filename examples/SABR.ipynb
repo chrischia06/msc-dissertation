{
 "cells": [
  {
   "cell_type": "code",
   "execution_count": 1,
   "id": "34a16740-4d5a-439d-9669-5f991233a1d0",
   "metadata": {},
   "outputs": [],
   "source": [
    "%run key_imports.py"
   ]
  },
  {
   "cell_type": "code",
   "execution_count": null,
   "id": "5228490c-6e05-442a-a182-0868cab7b645",
   "metadata": {},
   "outputs": [],
   "source": [
    "\"\"\"\n",
    "Fix Random Seed\n",
    "\"\"\"\n",
    "SEED = 42\n",
    "rng = default_rng(SEED)\n",
    "\n",
    "\"\"\"\n",
    "Fix Terminal maturity\n",
    "\"\"\"\n",
    "\n",
    "T = 1\n",
    "N_TIMES = 16\n",
    "dt = T / N_TIMES\n",
    "ts = np.linspace(dt, T, N_TIMES)\n",
    "\n",
    "\"\"\"\n",
    "Define State Variables\n",
    "\"\"\"\n",
    "N_SAMPLES = 100\n",
    "SK = rng.uniform(0.4, 5, N_SAMPLES).reshape((-1, 1))\n",
    "rho = rng.uniform(-0.5, 0.0, N_SAMPLES).reshape((-1, 1))\n",
    "kappa = rng.uniform(0, 2, N_SAMPLES)\n",
    "vbar = rng.uniform(0, 0.5, N_SAMPLES)\n",
    "vol_of_vol = rng.uniform(0, 0.5, N_SAMPLES)\n",
    "V0 = vbar\n",
    "\n",
    "\n",
    "\"\"\"\n",
    "Define Brownian Increments\n",
    "\"\"\"\n",
    "W_v = rng.standard_normal((N_SAMPLES, N_TIMES)) * np.sqrt(dt)\n",
    "W_s = rng.standard_normal((N_SAMPLES, N_TIMES)) * np.sqrt(dt)\n",
    "\n",
    "\n",
    "\"\"\"\n",
    "Simulate St, Vt paths\n",
    "\"\"\"\n",
    "Sts = np.zeros((N_SAMPLES, N_TIMES))\n",
    "Vts = np.zeros((N_SAMPLES, N_TIMES))\n",
    "\n",
    "Vts[:,0] = cir_step(V0, kappa, vbar, dt, vol_of_vol, W_v[:,0])\n",
    "Sts[:, 0] = heston_step(S0, dt, V0, W_s[:,0], W_v[:,0], rho)\n",
    "for i in range(1, N_TIMES):\n",
    "    Vts[:, i] = cir_step(Vts[:, i - 1], kappa, vbar, dt, vol_of_vol, W_v[:, i])\n",
    "    Sts[:, i] = heston_step(Sts[:,i-1], dt, V0, W_s[:,i], W_v[:, i], rho)\n",
    "\n",
    "    \n",
    "# np.repeat(ts, N_SAMPLES).reshape((-1, N_SAMPLES)).T.reshape(-1)\n",
    "# np.repeat(kappa, N_TIMES)\n",
    "\n",
    "\"\"\"\n",
    "Combine to create dataset\n",
    "\"\"\"\n",
    "\n",
    "feat_names = ['S/K', 'V','ttm', 'kappa', 'rho', 'vbar','vol_of_vol']\n",
    "\n",
    "f_to_i = lambda x: feat_names.index(x)\n",
    "\n",
    "K = (Sts[:, -1] / SK[:,0]).reshape((-1, 1))\n",
    "y = np.maximum((Sts[:,-1] / K[:,0]) - 1, 0)\n",
    "Xs = np.vstack([(Sts / K).reshape(-1),\n",
    "                Vts.reshape(-1),\n",
    "                np.repeat(T - ts, N_SAMPLES).reshape((-1, N_SAMPLES)).T.reshape(-1),\n",
    "                np.repeat(kappa, N_TIMES),\n",
    "                np.repeat(rho, N_TIMES),\n",
    "                np.repeat(vbar, N_TIMES),\n",
    "                np.repeat(vol_of_vol, N_TIMES),\n",
    "                ]).T\n",
    "X_df = pd.DataFrame(Xs, columns = feat_names)\n",
    "\n",
    "ys = np.repeat(y, N_TIMES)\n",
    "\n",
    "\"\"\"\n",
    "Visualise distribution\n",
    "\"\"\"\n",
    "fig, ax = plt.subplots(figsize=(5 * X_df.shape[1], 5), ncols = X_df.shape[1])\n",
    "for i in range(X_df.shape[1]):\n",
    "    X_df.iloc[:, i].plot(kind = 'hist', ax = ax[i], bins = 50)\n",
    "    ax[i].set_title(feat_names[i])"
   ]
  },
  {
   "cell_type": "code",
   "execution_count": 221,
   "id": "7269791f-6424-4be0-a190-ca8cec61ac47",
   "metadata": {},
   "outputs": [],
   "source": [
    "from numpy.random import default_rng\n",
    "\n",
    "SEED = 42\n",
    "rng = default_rng(SEED)\n",
    "\n",
    "N_TIMES = 32\n",
    "N_SAMPLES = 2048\n",
    "\n",
    "Z1 = rng.standard_normal((N_SAMPLES, N_TIMES))\n",
    "Z2 = rng.standard_normal((N_SAMPLES, N_TIMES))\n",
    "\n",
    "T = 1\n",
    "dt = T / (N_TIMES)\n",
    "ts = np.linspace(dt, T, N_TIMES).reshape((1, -1))\n",
    "\n",
    "vol_of_vol = np.linspace(0, 1, N_SAMPLES).reshape((-1, 1))\n",
    "beta = np.linspace(0, 1, N_SAMPLES).reshape((-1, 1))\n",
    "rho = np.linspace(0, 1, N_SAMPLES).reshape((-1, 1))\n",
    "V0 = 0.2\n",
    "F0 = 0\n",
    "\n",
    "Vt =  V0 * np.exp(-(0.5 * vol_of_vol ** 2) * ts + vol_of_vol * np.sqrt(dt) * np.cumsum(Z2, axis = 1))\n",
    "\n",
    "Ft = np.zeros((N_SAMPLES, N_TIMES))\n",
    "\n",
    "Ft[:, [0]] = (F0 + \n",
    "              V0 * np.exp((beta - 1) * F0) * \n",
    "              np.sqrt(dt) * (rho * Z2[:, [0]] + np.sqrt(1 - rho ** 2) + Z1[:,[0]]) - \n",
    "           0.5 * (V0 ** 2) * dt * np.exp(2 * (beta - 1) * F0))\n",
    "for i in range(N_TIMES - 1):\n",
    "    Ft[:, [i + 1]] = (Ft[:, [i]] + \n",
    "                      Vt[:, [i]] * np.exp((beta - 1) * Ft[:, [i]]) * \n",
    "                      np.sqrt(dt) * (rho * Z2[:, [i + 1]] + np.sqrt(1 - (rho ** 2)) + Z1[:, [i + 1]]) - \n",
    "                      0.5 * (Vt[:, [i]] ** 2) * dt * np.exp(2 * (beta - 1) * Ft[:, [i]]))\n",
    "    Ft[:, i + 1] = np.abs(Ft[:, i + 1])"
   ]
  },
  {
   "cell_type": "markdown",
   "id": "1eca3cd8-2307-4510-b78f-b8819227f874",
   "metadata": {},
   "source": [
    "$$V_{T} = V_{t}\\exp((-0.5\\alpha^{2}(T - t)) + \\alpha (W_{T} - W_{t}) )$$\n",
    "\n",
    "$$dV_{t} = \\nu V_{t} dW_{2, t}$$\n",
    "\n",
    "$$dF_{t} = V_{t}F_{t}^{\\beta}dW_{1, t}$$\n",
    "\n",
    "$$d\\log F_{t} = \\frac{1}{F_{t}}dF_{t} + \\frac{-1}{2F_{t}^{2}}(dF_{t})^{2} = V_{t}F_{t - 1}^{\\beta - 1} dW_{ 1, t} - \\frac{V_{t}^{2}F_{t}^{2\\beta - 2}}{2} dt$$\n",
    "\n",
    "\n",
    "$F, V, \\nu, \\beta, \\rho, T$\n",
    "\n",
    "\n",
    "$d(\\lambda F_{t}) = V_{t} \\lambda^{1 - \\beta} (\\lambda F_{t})^{\\beta}$\n",
    "\n",
    "hence\n",
    "\n",
    "$$P(\\lambda F_{t}, \\lambda^{1 - \\beta}\\alpha, \\beta, \\rho, v)= \\lambda P(F, \\alpha, \\beta, \\rho, v)$$"
   ]
  },
  {
   "cell_type": "code",
   "execution_count": 223,
   "id": "c3efc00b-f4c8-4c86-ba38-1e4e149d5b32",
   "metadata": {},
   "outputs": [
    {
     "name": "stdout",
     "output_type": "stream",
     "text": [
      "(65536, 6) (65536,)\n"
     ]
    }
   ],
   "source": [
    "X = np.vstack([Ft.reshape(-1),\n",
    "               Vt.reshape(-1),\n",
    "               T - np.repeat(ts, N_SAMPLES).reshape((N_TIMES, - 1)).T.reshape(-1),\n",
    "               np.repeat(vol_of_vol, N_TIMES).reshape(-1),\n",
    "               np.repeat(beta, N_TIMES),\n",
    "               np.repeat(rho, N_TIMES)]).T\n",
    "\n",
    "y = np.maximum(Ft[:,-1] - 1.0, 0.0)\n",
    "ys = np.repeat(y, N_TIMES)\n",
    "y = ys.reshape(-1)\n",
    "\n",
    "\n",
    "print(X.shape, y.shape)\n",
    "assert X.shape[0] == y.shape[0]"
   ]
  },
  {
   "cell_type": "code",
   "execution_count": 224,
   "id": "94edbae7-0f85-4a40-94f1-8066be40efe8",
   "metadata": {},
   "outputs": [
    {
     "name": "stdout",
     "output_type": "stream",
     "text": [
      "Epoch 1/20\n",
      "8/8 [==============================] - 14s 2s/step - loss: 322.8184\n",
      "Epoch 2/20\n",
      "8/8 [==============================] - 14s 2s/step - loss: 8.6869\n",
      "Epoch 3/20\n",
      "8/8 [==============================] - 14s 2s/step - loss: 4.5075\n",
      "Epoch 4/20\n",
      "8/8 [==============================] - 14s 2s/step - loss: 1.1453\n",
      "Epoch 5/20\n",
      "8/8 [==============================] - 13s 2s/step - loss: 0.4230\n",
      "Epoch 6/20\n",
      "8/8 [==============================] - 14s 2s/step - loss: 0.2187\n",
      "Epoch 7/20\n",
      "8/8 [==============================] - 12s 2s/step - loss: 0.1369\n",
      "Epoch 8/20\n",
      "8/8 [==============================] - 12s 2s/step - loss: 0.0949\n",
      "Epoch 9/20\n",
      "8/8 [==============================] - 12s 2s/step - loss: 0.0695\n",
      "Epoch 10/20\n",
      "8/8 [==============================] - 13s 2s/step - loss: 0.0528\n",
      "Epoch 11/20\n",
      "8/8 [==============================] - 15s 2s/step - loss: 0.0414\n",
      "Epoch 12/20\n",
      "8/8 [==============================] - 13s 2s/step - loss: 0.0338\n",
      "Epoch 13/20\n",
      "8/8 [==============================] - 14s 2s/step - loss: 0.0289\n",
      "Epoch 14/20\n",
      "8/8 [==============================] - 17s 2s/step - loss: 0.0261\n",
      "Epoch 15/20\n",
      "8/8 [==============================] - 17s 2s/step - loss: 0.0247\n",
      "Epoch 16/20\n",
      "8/8 [==============================] - 14s 2s/step - loss: 0.0240\n",
      "Epoch 17/20\n",
      "8/8 [==============================] - 16s 2s/step - loss: 0.0237\n",
      "Epoch 18/20\n",
      "8/8 [==============================] - 16s 2s/step - loss: 0.0236\n",
      "Epoch 19/20\n",
      "8/8 [==============================] - 17s 2s/step - loss: 0.0236\n",
      "Epoch 20/20\n",
      "8/8 [==============================] - 14s 2s/step - loss: 0.0236\n"
     ]
    },
    {
     "data": {
      "text/plain": [
       "<keras.callbacks.History at 0x16f37f8e0>"
      ]
     },
     "execution_count": 224,
     "metadata": {},
     "output_type": "execute_result"
    }
   ],
   "source": [
    "i = Input(6)\n",
    "x = Dense(2048, activation='softplus')(i)\n",
    "x = Dense(2048, activation='softplus')(x)\n",
    "o = Dense(1)(x)\n",
    "model = Model(i, o)\n",
    "model.compile(optimizer='Adam', loss='MSE')\n",
    "model.fit(X, ys, epochs=20, batch_size=8192)"
   ]
  },
  {
   "cell_type": "code",
   "execution_count": 216,
   "id": "4da76bb8-89eb-4a77-9a9b-d50995c2fc91",
   "metadata": {},
   "outputs": [
    {
     "data": {
      "text/plain": [
       "<matplotlib.collections.PathCollection at 0x16f1a5a30>"
      ]
     },
     "execution_count": 216,
     "metadata": {},
     "output_type": "execute_result"
    },
    {
     "data": {
      "image/png": "[encoded data removed]",
      "text/plain": [
       "<Figure size 432x288 with 1 Axes>"
      ]
     },
     "metadata": {},
     "output_type": "display_data"
    }
   ],
   "source": [
    "preds = model.predict(X).reshape(-1)\n",
    "plt.scatter(X[:,0], ys)\n",
    "plt.scatter(X[:,0], preds)\n",
    "plt.scatter(X[:, 0], np.maximum(X[:, 0] - 1.0, 0))"
   ]
  }
 ],
 "metadata": {
  "kernelspec": {
   "display_name": "Python 3 (ipykernel)",
   "language": "python",
   "name": "python3"
  },
  "language_info": {
   "codemirror_mode": {
    "name": "ipython",
    "version": 3
   },
   "file_extension": ".py",
   "mimetype": "text/x-python",
   "name": "python",
   "nbconvert_exporter": "python",
   "pygments_lexer": "ipython3",
   "version": "3.9.1"
  }
 },
 "nbformat": 4,
 "nbformat_minor": 5
}
