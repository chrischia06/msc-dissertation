{
 "cells": [
  {
   "cell_type": "code",
   "execution_count": 1,
   "id": "34a16740-4d5a-439d-9669-5f991233a1d0",
   "metadata": {},
   "outputs": [],
   "source": [
    "import sys\n",
    "sys.path.append(\"../\")\n",
    "%run ../nn_option_pricer/_key_imports.py\n",
    "from nn_option_pricer.sabr import *\n",
    "from nn_option_pricer.bs import *"
   ]
  },
  {
   "cell_type": "code",
   "execution_count": 212,
   "id": "5a25e6fe-db9f-4177-8241-bd8fcddf7949",
   "metadata": {},
   "outputs": [],
   "source": [
    "from numpy.random import default_rng\n",
    "rng = default_rng(42)\n",
    "N_BROWNIANS = 10 ** 4\n",
    "MAX_N_TIMES = 30\n",
    "Z1 = rng.standard_normal((N_BROWNIANS, MAX_N_TIMES))\n",
    "Z2 = rng.standard_normal((N_BROWNIANS, MAX_N_TIMES))\n",
    "N_SAMPLES = 10 ** 4"
   ]
  },
  {
   "cell_type": "code",
   "execution_count": 214,
   "id": "3db28929-49dc-48cf-9fd3-e5d5846712e9",
   "metadata": {},
   "outputs": [
    {
     "data": {
      "application/vnd.jupyter.widget-view+json": {
       "model_id": "3fb0cfc1baad45f39b836724702ff3a4",
       "version_major": 2,
       "version_minor": 0
      },
      "text/plain": [
       "  0%|          | 0/10000 [00:00<?, ?it/s]"
      ]
     },
     "metadata": {},
     "output_type": "display_data"
    },
    {
     "data": {
      "application/vnd.jupyter.widget-view+json": {
       "model_id": "c69d6063b47d40e4a130f7808e2c527c",
       "version_major": 2,
       "version_minor": 0
      },
      "text/plain": [
       "  0%|          | 0/10000 [00:00<?, ?it/s]"
      ]
     },
     "metadata": {},
     "output_type": "display_data"
    }
   ],
   "source": [
    "import jax\n",
    "# grad_vt = jax.numpy.vectorize(jax.grad(gbm_step, argnums = (0, 1, 2)))(V0, 0.01, vol_of_vol, Z1[:, 0])\n",
    "# grad_vt = [np.array(x) for x in grad_vt]\n",
    "\n",
    "# grad_ft = jax.numpy.vectorize(jax.grad(cev_step, argnums = (0, 1, 2, 3, 5)))(F0, Vt, 1.0, 0.01, Z1[:, 0], rho, Z2[:, 0])\n",
    "# grad_ft = [np.array(x) for x in grad_ft]\n",
    "\n",
    "def sabr_call(F0, V0, dt, vol_of_vol, beta, rho, K, Z1, Z2, N_TIMES:np.int32):\n",
    "    if N_TIMES >= 1:\n",
    "        Vt = gbm_step(F = jnp.log(V0), dt = dt, sigma = vol_of_vol, Z = Z1[:, 0])\n",
    "        Ft = cev_step(F0, jnp.exp(Vt), beta = beta, dt = dt, Z1 = Z1[:, 0], rho = rho, Z2 = Z2[:, 0])\n",
    "    for i in range(int(N_TIMES) - 1):\n",
    "        Vt = gbm_step(F = Vt, dt = dt, sigma = vol_of_vol, Z = Z1[:, i])\n",
    "        Ft = cev_step(Ft, jnp.exp(Vt), beta = beta, dt = dt, Z1 = Z1[:, i], rho = rho, Z2 = Z2[:, i])\n",
    "    return jnp.mean(jnp.maximum(Ft - K, 0.0))\n",
    "\n",
    "params = {\"vol_of_vol\": (1e-3, 0.2),\n",
    "           \"beta\": (1.0, 1.0),\n",
    "           \"rho\": (-0.97, 0),\n",
    "           \"V0\":(0.1, 0.3),\n",
    "            \"F0\": (1.0, 1.0),\n",
    "           \"K\": (1e-2, 3.0),\n",
    "           \"N_TIMES\": (1, 30)}\n",
    "N_SAMPLES = 10000\n",
    "params_df = pd.DataFrame({x: rng.uniform(params[x][0], params[x][1], N_SAMPLES) for x in params})\n",
    "params_df['N_TIMES'] = rng.integers(params[\"N_TIMES\"][0], params[\"N_TIMES\"][1], N_SAMPLES)\n",
    "\n",
    "time.time()\n",
    "call_func = lambda x: float(sabr_call(x[\"F0\"], x[\"V0\"], 1e-1, x[\"vol_of_vol\"], x[\"beta\"], x[\"rho\"], x[\"K\"], Z1, Z2, x[\"N_TIMES\"]))\n",
    "params_df['MC_call'] = params_df.progress_apply(call_func, axis = 1) \n",
    "call_func = lambda x: [np.float32(x) for x in jax.grad(sabr_call, argnums=(0, 1, 2, 3, 4, 5, 6))(x[\"F0\"], x[\"V0\"], 1e-1, x[\"vol_of_vol\"], x[\"beta\"], x[\"rho\"], x[\"K\"], Z1, Z2, x[\"N_TIMES\"])]\n",
    "grads = params_df.progress_apply(call_func, axis = 1) \n",
    "end = time.time()\n",
    "#     temp_grad_ft = jax.numpy.vectorize(jax.grad(cev_step, argnums = (0, 1, 2, 3, 5)))(F0, Vt, 1.0, 0.01, Z1[:, 0], rho, Z2[:, 0])\n",
    "#     for i,x in enumerate (temp_grad_vt):\n",
    "#         grad_vt[i] *= np.array(x)\n",
    "#     for i,x in enumerate (temp_grad_ft):\n",
    "#         grad_ft[i] *= np.array(x)\n",
    "\n",
    "# K = 1.0\n",
    "\n",
    "# dCdFT, dCdK = jax.numpy.vectorize(jax.grad(call_payoff, argnums=(0, 1)))(Ft, K)\n",
    "\n",
    "# [\"F\", \"v\", \"\"]"
   ]
  },
  {
   "cell_type": "code",
   "execution_count": 217,
   "id": "a3d831e5-cd47-41d9-986b-392d25476ff9",
   "metadata": {},
   "outputs": [
    {
     "data": {
      "text/html": [
       "<div>\n",
       "<style scoped>\n",
       "    .dataframe tbody tr th:only-of-type {\n",
       "        vertical-align: middle;\n",
       "    }\n",
       "\n",
       "    .dataframe tbody tr th {\n",
       "        vertical-align: top;\n",
       "    }\n",
       "\n",
       "    .dataframe thead th {\n",
       "        text-align: right;\n",
       "    }\n",
       "</style>\n",
       "<table border=\"1\" class=\"dataframe\">\n",
       "  <thead>\n",
       "    <tr style=\"text-align: right;\">\n",
       "      <th></th>\n",
       "      <th>vol_of_vol</th>\n",
       "      <th>beta</th>\n",
       "      <th>rho</th>\n",
       "      <th>V0</th>\n",
       "      <th>F0</th>\n",
       "      <th>K</th>\n",
       "      <th>N_TIMES</th>\n",
       "      <th>MC_call</th>\n",
       "    </tr>\n",
       "  </thead>\n",
       "  <tbody>\n",
       "    <tr>\n",
       "      <th>0</th>\n",
       "      <td>0.193943</td>\n",
       "      <td>1.0</td>\n",
       "      <td>-0.243881</td>\n",
       "      <td>0.188226</td>\n",
       "      <td>1.0</td>\n",
       "      <td>1.243985</td>\n",
       "      <td>11</td>\n",
       "      <td>0.150161</td>\n",
       "    </tr>\n",
       "    <tr>\n",
       "      <th>1</th>\n",
       "      <td>0.088247</td>\n",
       "      <td>1.0</td>\n",
       "      <td>-0.380572</td>\n",
       "      <td>0.270961</td>\n",
       "      <td>1.0</td>\n",
       "      <td>1.569022</td>\n",
       "      <td>15</td>\n",
       "      <td>0.083392</td>\n",
       "    </tr>\n",
       "    <tr>\n",
       "      <th>2</th>\n",
       "      <td>0.053511</td>\n",
       "      <td>1.0</td>\n",
       "      <td>-0.390777</td>\n",
       "      <td>0.208119</td>\n",
       "      <td>1.0</td>\n",
       "      <td>0.060690</td>\n",
       "      <td>7</td>\n",
       "      <td>0.970705</td>\n",
       "    </tr>\n",
       "    <tr>\n",
       "      <th>3</th>\n",
       "      <td>0.196238</td>\n",
       "      <td>1.0</td>\n",
       "      <td>-0.374875</td>\n",
       "      <td>0.208186</td>\n",
       "      <td>1.0</td>\n",
       "      <td>0.911074</td>\n",
       "      <td>13</td>\n",
       "      <td>0.392865</td>\n",
       "    </tr>\n",
       "    <tr>\n",
       "      <th>4</th>\n",
       "      <td>0.147403</td>\n",
       "      <td>1.0</td>\n",
       "      <td>-0.028637</td>\n",
       "      <td>0.251006</td>\n",
       "      <td>1.0</td>\n",
       "      <td>0.938751</td>\n",
       "      <td>18</td>\n",
       "      <td>0.478729</td>\n",
       "    </tr>\n",
       "    <tr>\n",
       "      <th>...</th>\n",
       "      <td>...</td>\n",
       "      <td>...</td>\n",
       "      <td>...</td>\n",
       "      <td>...</td>\n",
       "      <td>...</td>\n",
       "      <td>...</td>\n",
       "      <td>...</td>\n",
       "      <td>...</td>\n",
       "    </tr>\n",
       "    <tr>\n",
       "      <th>9995</th>\n",
       "      <td>0.148796</td>\n",
       "      <td>1.0</td>\n",
       "      <td>-0.846421</td>\n",
       "      <td>0.233389</td>\n",
       "      <td>1.0</td>\n",
       "      <td>2.662207</td>\n",
       "      <td>2</td>\n",
       "      <td>0.000000</td>\n",
       "    </tr>\n",
       "    <tr>\n",
       "      <th>9996</th>\n",
       "      <td>0.098177</td>\n",
       "      <td>1.0</td>\n",
       "      <td>-0.622576</td>\n",
       "      <td>0.256869</td>\n",
       "      <td>1.0</td>\n",
       "      <td>0.740647</td>\n",
       "      <td>7</td>\n",
       "      <td>0.324246</td>\n",
       "    </tr>\n",
       "    <tr>\n",
       "      <th>9997</th>\n",
       "      <td>0.080047</td>\n",
       "      <td>1.0</td>\n",
       "      <td>-0.293667</td>\n",
       "      <td>0.120683</td>\n",
       "      <td>1.0</td>\n",
       "      <td>0.616489</td>\n",
       "      <td>27</td>\n",
       "      <td>0.479546</td>\n",
       "    </tr>\n",
       "    <tr>\n",
       "      <th>9998</th>\n",
       "      <td>0.114068</td>\n",
       "      <td>1.0</td>\n",
       "      <td>-0.543539</td>\n",
       "      <td>0.285653</td>\n",
       "      <td>1.0</td>\n",
       "      <td>1.562416</td>\n",
       "      <td>16</td>\n",
       "      <td>0.136774</td>\n",
       "    </tr>\n",
       "    <tr>\n",
       "      <th>9999</th>\n",
       "      <td>0.186084</td>\n",
       "      <td>1.0</td>\n",
       "      <td>-0.583612</td>\n",
       "      <td>0.115905</td>\n",
       "      <td>1.0</td>\n",
       "      <td>1.568190</td>\n",
       "      <td>1</td>\n",
       "      <td>0.000000</td>\n",
       "    </tr>\n",
       "  </tbody>\n",
       "</table>\n",
       "<p>10000 rows × 8 columns</p>\n",
       "</div>"
      ],
      "text/plain": [
       "      vol_of_vol  beta       rho        V0   F0         K  N_TIMES   MC_call\n",
       "0       0.193943   1.0 -0.243881  0.188226  1.0  1.243985       11  0.150161\n",
       "1       0.088247   1.0 -0.380572  0.270961  1.0  1.569022       15  0.083392\n",
       "2       0.053511   1.0 -0.390777  0.208119  1.0  0.060690        7  0.970705\n",
       "3       0.196238   1.0 -0.374875  0.208186  1.0  0.911074       13  0.392865\n",
       "4       0.147403   1.0 -0.028637  0.251006  1.0  0.938751       18  0.478729\n",
       "...          ...   ...       ...       ...  ...       ...      ...       ...\n",
       "9995    0.148796   1.0 -0.846421  0.233389  1.0  2.662207        2  0.000000\n",
       "9996    0.098177   1.0 -0.622576  0.256869  1.0  0.740647        7  0.324246\n",
       "9997    0.080047   1.0 -0.293667  0.120683  1.0  0.616489       27  0.479546\n",
       "9998    0.114068   1.0 -0.543539  0.285653  1.0  1.562416       16  0.136774\n",
       "9999    0.186084   1.0 -0.583612  0.115905  1.0  1.568190        1  0.000000\n",
       "\n",
       "[10000 rows x 8 columns]"
      ]
     },
     "execution_count": 217,
     "metadata": {},
     "output_type": "execute_result"
    }
   ],
   "source": [
    "params_df"
   ]
  },
  {
   "cell_type": "code",
   "execution_count": 216,
   "id": "99f05ec0-80d8-44f2-a4af-c0f36e888acf",
   "metadata": {},
   "outputs": [],
   "source": [
    "params_df.to_csv(\"sabr_train.csv\")"
   ]
  },
  {
   "cell_type": "markdown",
   "id": "07f1a105-e64f-4264-b870-29b96e9938b2",
   "metadata": {},
   "source": [
    "$\\frac{\\partial}{\\partial T} \\frac{\\partial T}{\\partial \\Delta t} = N\\frac{\\partial}{\\partial T}$"
   ]
  },
  {
   "cell_type": "code",
   "execution_count": 175,
   "id": "53d5cea6-9a8a-4d84-b05b-da1262826d4a",
   "metadata": {},
   "outputs": [],
   "source": [
    "def sabr_expansion(F, K, vol, beta, rho, vol_of_vol, ttm):\n",
    "    \"\"\"\n",
    "    rho: correlation between brownian motions\n",
    "    vol_of_vol: vol of vol\n",
    "    vol: spot vol\n",
    "    ttm: time to maturity\n",
    "    \"\"\"\n",
    "    import jax.numpy as np\n",
    "\n",
    "    F_K = (F * K) ** (1.0 - beta)\n",
    "    mon = np.log(F / K)\n",
    "    z = (vol_of_vol / vol) * (F_K**0.5) * mon\n",
    "    x = np.log((np.sqrt(1.0 - 2.0 * rho * z + (z**2.0)) + z - rho) / (1.0 - rho))\n",
    "    num = 1.0 + ttm * (\n",
    "        ((1.0 - beta) ** 2.0) * ((vol**2) / F_K) / 24.0\n",
    "        + 0.25 * rho * beta * vol_of_vol * vol / (F_K * 0.5)\n",
    "        + (2.0 - 3.0 * (rho**2)) * ((vol_of_vol) ** 2) / 24.0\n",
    "    )\n",
    "    denom = (F_K**0.5) * (\n",
    "        1.0 + ((1.0 - beta) ** 2.0) / 24.0 * mon**2.0 + ((1.0 - beta) ** 4) / 1920.0 * mon**4.0\n",
    "    )\n",
    "    if F == K:\n",
    "        return (vol * num / denom) + (z / x) * vol * num / denom\n",
    "    return (z / x) * vol * num / denom"
   ]
  },
  {
   "cell_type": "code",
   "execution_count": 211,
   "id": "6dfa9e76-6fc4-4b84-af02-5bfca370814a",
   "metadata": {},
   "outputs": [
    {
     "data": {
      "application/vnd.jupyter.widget-view+json": {
       "model_id": "d4ab85d19cd14b73a5158b7eef2ddc1b",
       "version_major": 2,
       "version_minor": 0
      },
      "text/plain": [
       "  0%|          | 0/100 [00:00<?, ?it/s]"
      ]
     },
     "metadata": {},
     "output_type": "display_data"
    },
    {
     "data": {
      "text/plain": [
       "0     [-0.0051043006, 0.0031911212, 0.8986728, 0.021...\n",
       "1     [0.027790936, -0.07904983, 0.9580048, -0.09421...\n",
       "2     [0.018013047, -0.015608372, 0.9892327, 0.01615...\n",
       "3     [0.0016609934, -0.0006965018, 0.9986461, 0.123...\n",
       "4     [0.0045110392, -0.004735645, 0.99850196, -0.00...\n",
       "                            ...                        \n",
       "95    [0.015410162, -0.008284057, 0.9735744, 0.07022...\n",
       "96    [0.012549919, -0.009785331, 0.98879266, 0.0289...\n",
       "97    [0.001900295, -0.00074512453, 0.96951014, 0.07...\n",
       "98    [-0.0014140508, 0.0008968654, 0.9934713, 0.065...\n",
       "99    [-0.016236877, 0.0056759873, 0.9240758, 0.0900...\n",
       "Length: 100, dtype: object"
      ]
     },
     "execution_count": 211,
     "metadata": {},
     "output_type": "execute_result"
    }
   ],
   "source": [
    "call_func = lambda x: [np.float32(x) for x in jax.grad(sabr_expansion, argnums=(0, 1, 2, 3, 4, 5, 6))(x[\"F0\"], x[\"K\"], x[\"V0\"], x[\"beta\"], x[\"rho\"], x[\"vol_of_vol\"], 1e-1 * x[\"N_TIMES\"])]\n",
    "params_df.progress_apply(call_func, axis = 1) "
   ]
  },
  {
   "cell_type": "code",
   "execution_count": 179,
   "id": "825701d2-de38-4656-b22a-4c62a043a5d1",
   "metadata": {},
   "outputs": [],
   "source": [
    "df[\"sabr_expansion_vol\"]  = np.array(sabr_expansion(\n",
    "    F=df['F0'].values,\n",
    "    K=df[\"K\"].values,\n",
    "    vol=df['V0'].values,\n",
    "    vol_of_vol=df[\"vol_of_vol\"].values,\n",
    "    beta=df[\"beta\"].values,\n",
    "    rho=df[\"rho\"].values,\n",
    "    ttm=1e-3 * df[\"N_TIMES\"].values,\n",
    ")).copy()"
   ]
  },
  {
   "cell_type": "code",
   "execution_count": 136,
   "id": "6c4ce4ef-9ceb-4492-a356-45555bf81718",
   "metadata": {},
   "outputs": [],
   "source": [
    "start = time.time()\n",
    "df[\"sabr_expansion_vol\"]  = np.array(sabr_expansion(\n",
    "    F=df['F0'].values,\n",
    "    K=df[\"K\"].values,\n",
    "    vol=df['V0'].values,\n",
    "    vol_of_vol=df[\"vol_of_vol\"].values,\n",
    "    beta=df[\"beta\"].values,\n",
    "    rho=df[\"rho\"].values,\n",
    "    ttm=1e-3 * df[\"N_TIMES\"].values,\n",
    ")).copy()\n",
    "df[\"sabr_expansion_call\"] = np.array(df[\"K\"].values * jax_bs_call(\n",
    "    SK=-np.log(df[\"K\"].values),\n",
    "    sigma_tau=df[\"sabr_expansion_vols\"].values * np.sqrt(1e-3 * df[\"N_TIMES\"].values),\n",
    ")).copy()\n",
    "\n",
    "df[\"sabr_expansion_digital\"] = np.array(jax_bs_digital(\n",
    "    SK=-np.log(df[\"K\"].values),\n",
    "    sigma_tau=df[\"sabr_expansion_vols\"].values * np.sqrt(1e-3 * df[\"N_TIMES\"].values),\n",
    ")).copy()\n",
    "\n",
    "\n",
    "end = time.time()\n"
   ]
  },
  {
   "cell_type": "code",
   "execution_count": null,
   "id": "d549bea3-a305-4a57-869b-8b0c6ede0cfd",
   "metadata": {},
   "outputs": [],
   "source": []
  },
  {
   "cell_type": "code",
   "execution_count": 133,
   "id": "9160a8e8-bea8-4d0d-968c-87dba621982c",
   "metadata": {},
   "outputs": [
    {
     "data": {
      "text/plain": [
       "<AxesSubplot:xlabel='K', ylabel='sabr_expansion_call'>"
      ]
     },
     "execution_count": 133,
     "metadata": {},
     "output_type": "execute_result"
    },
    {
     "data": {
      "image/png": "[encoded data removed]",
      "text/plain": [
       "<Figure size 432x288 with 1 Axes>"
      ]
     },
     "metadata": {},
     "output_type": "display_data"
    }
   ],
   "source": [
    "sns.scatterplot(df['K'], df[\"sabr_expansion_call\"])"
   ]
  },
  {
   "cell_type": "code",
   "execution_count": 95,
   "id": "59375668-d8b7-42ea-90d8-aaca5a747b9d",
   "metadata": {},
   "outputs": [],
   "source": [
    "feat_names = [\"F0\", \"V0\", \"T\", \"vol_of_vol\", \"beta\", \"rho\", \"K\"]"
   ]
  },
  {
   "cell_type": "code",
   "execution_count": 96,
   "id": "41fdce9c-d85c-4126-9466-d65d29c34753",
   "metadata": {},
   "outputs": [],
   "source": [
    "grads_df = grads.apply(pd.Series)\n",
    "grads_df.columns = [f\"MC_call_d/d{x}\" for x in feat_names]"
   ]
  },
  {
   "cell_type": "code",
   "execution_count": 32,
   "id": "50ad1cd3-7642-4670-aca6-ae8a3296df5b",
   "metadata": {},
   "outputs": [
    {
     "data": {
      "text/plain": [
       "DeviceArray(1.9686687e+10, dtype=float32)"
      ]
     },
     "execution_count": 32,
     "metadata": {},
     "output_type": "execute_result"
    }
   ],
   "source": [
    "sabr_call(**params_df.iloc[0].to_dict(), dt = 1e-2, Z1 = Z1, Z2 = Z2)"
   ]
  },
  {
   "cell_type": "code",
   "execution_count": 129,
   "id": "e9537028-0051-4012-85d7-88cadc0b5999",
   "metadata": {},
   "outputs": [
    {
     "data": {
      "text/plain": [
       "array([1.0964485e-01, 1.2520440e-01, 3.9947690e+26, ..., 1.8609553e+10,\n",
       "       2.4329942e+20, 0.0000000e+00], dtype=float32)"
      ]
     },
     "execution_count": 129,
     "metadata": {},
     "output_type": "execute_result"
    }
   ],
   "source": [
    "np.array(jax.numpy.mean(dCdFT.reshape(-1) * np.vstack(grad_ft), axis= 0))"
   ]
  },
  {
   "cell_type": "code",
   "execution_count": 92,
   "id": "00c9ec3f-b6d5-4a0e-bd84-930896714f32",
   "metadata": {},
   "outputs": [
    {
     "data": {
      "text/plain": [
       "array([[5.4803699e-01, 0.0000000e+00, 0.0000000e+00, 1.8729456e-04,\n",
       "        0.0000000e+00],\n",
       "       [6.2602061e-01, 0.0000000e+00, 0.0000000e+00, 1.3507420e-06,\n",
       "        0.0000000e+00],\n",
       "       [1.7352235e+02, 3.4595807e-32, 0.0000000e+00, 1.9973844e+27,\n",
       "        1.4012985e-45],\n",
       "       ...,\n",
       "       [5.4214746e-01, 1.5870535e-30, 0.0000000e+00, 9.3047767e+10,\n",
       "        2.4100436e-38],\n",
       "       [1.8762007e+01, 1.4425458e-35, 0.0000000e+00, 1.2164971e+21,\n",
       "        1.6083309e-20],\n",
       "       [1.7131023e+02, 1.3596183e-26, 0.0000000e+00, 4.1656849e+28,\n",
       "        3.1139939e-36]], dtype=float32)"
      ]
     },
     "execution_count": 92,
     "metadata": {},
     "output_type": "execute_result"
    }
   ],
   "source": [
    "np.vstack(grad_ft).T"
   ]
  },
  {
   "cell_type": "code",
   "execution_count": 73,
   "id": "2bc3e1dc-6d31-477e-93e5-783bc6b79d02",
   "metadata": {},
   "outputs": [
    {
     "data": {
      "text/plain": [
       "<generator object <genexpr> at 0x134d00d60>"
      ]
     },
     "execution_count": 73,
     "metadata": {},
     "output_type": "execute_result"
    }
   ],
   "source": [
    "grad_vt"
   ]
  },
  {
   "cell_type": "code",
   "execution_count": 56,
   "id": "453d6cdd-c89f-4008-9702-a37fc9026a51",
   "metadata": {},
   "outputs": [
    {
     "data": {
      "text/plain": [
       "(DeviceArray([1., 1., 1., ..., 1., 1., 1.], dtype=float32),\n",
       " DeviceArray([-0.02, -0.02, -0.02, ..., -0.02, -0.02, -0.02],            dtype=float32, weak_type=True),\n",
       " DeviceArray([-0.34838662, -0.04697683,  0.74485254, ...,  0.18157001,\n",
       "              -1.6643364 , -0.96437496], dtype=float32, weak_type=True))"
      ]
     },
     "execution_count": 56,
     "metadata": {},
     "output_type": "execute_result"
    }
   ],
   "source": [
    "jax.numpy.vectorize(jax.grad(gbm_step, argnums = (0, 1, 2)))(V0, 0.01, vol_of_vol, Z1[:, 0])"
   ]
  },
  {
   "cell_type": "code",
   "execution_count": 64,
   "id": "444b1b17-dd19-4f01-be3d-32c008b8da8e",
   "metadata": {},
   "outputs": [
    {
     "data": {
      "text/plain": [
       "(DeviceArray([1.0015459, 0.999686 , 1.0025632, ..., 1.0368187, 0.9843472,\n",
       "              0.986478 ], dtype=float32, weak_type=True),\n",
       " DeviceArray([-0.01892465, -0.01305826,  0.10395478, ...,  0.11715706,\n",
       "              -0.08151224, -0.15547812], dtype=float32),\n",
       " DeviceArray([ 0., -0.,  0., ...,  0., -0., -0.], dtype=float32, weak_type=True),\n",
       " DeviceArray([ 0.07729489, -0.01569996,  0.12816289, ...,  1.8409377 ,\n",
       "              -0.7826401 , -0.67610013], dtype=float32, weak_type=True),\n",
       " DeviceArray([-0.00336711, -0.00034584,  0.00070734, ...,  0.05580914,\n",
       "               0.04131442, -0.0066998 ], dtype=float32))"
      ]
     },
     "execution_count": 64,
     "metadata": {},
     "output_type": "execute_result"
    }
   ],
   "source": [
    "grad_ft"
   ]
  },
  {
   "cell_type": "code",
   "execution_count": 20,
   "id": "7269791f-6424-4be0-a190-ca8cec61ac47",
   "metadata": {},
   "outputs": [
    {
     "data": {
      "application/vnd.jupyter.widget-view+json": {
       "model_id": "4788aabe904846be882625f4c9e7f619",
       "version_major": 2,
       "version_minor": 0
      },
      "text/plain": [
       "  0%|          | 0/100 [00:00<?, ?it/s]"
      ]
     },
     "metadata": {},
     "output_type": "display_data"
    },
    {
     "ename": "NameError",
     "evalue": "name 'jax_BS_call' is not defined",
     "output_type": "error",
     "traceback": [
      "\u001b[0;31m---------------------------------------------------------------------------\u001b[0m",
      "\u001b[0;31mNameError\u001b[0m                                 Traceback (most recent call last)",
      "\u001b[0;32m/var/folders/gg/bdgg0c0n28x14l2hd83rbx3c0000gn/T/ipykernel_3035/725060880.py\u001b[0m in \u001b[0;36m<module>\u001b[0;34m\u001b[0m\n\u001b[1;32m    136\u001b[0m \u001b[0;34m\u001b[0m\u001b[0m\n\u001b[1;32m    137\u001b[0m \u001b[0mgen_time\u001b[0m \u001b[0;34m=\u001b[0m \u001b[0mtime\u001b[0m\u001b[0;34m.\u001b[0m\u001b[0mtime\u001b[0m\u001b[0;34m(\u001b[0m\u001b[0;34m)\u001b[0m\u001b[0;34m\u001b[0m\u001b[0;34m\u001b[0m\u001b[0m\n\u001b[0;32m--> 138\u001b[0;31m X_df_train = make_sabr_dataset(N_SAMPLES = 100, N_TIMES = 100, T = 1, \n\u001b[0m\u001b[1;32m    139\u001b[0m                   params = {\"vol_of_vol\": (1e-3, 1.0),\n\u001b[1;32m    140\u001b[0m                            \u001b[0;34m\"beta\"\u001b[0m\u001b[0;34m:\u001b[0m \u001b[0;34m(\u001b[0m\u001b[0;36m1\u001b[0m\u001b[0;34m,\u001b[0m \u001b[0;36m1\u001b[0m\u001b[0;34m)\u001b[0m\u001b[0;34m,\u001b[0m\u001b[0;34m\u001b[0m\u001b[0;34m\u001b[0m\u001b[0m\n",
      "\u001b[0;32m/var/folders/gg/bdgg0c0n28x14l2hd83rbx3c0000gn/T/ipykernel_3035/725060880.py\u001b[0m in \u001b[0;36mmake_sabr_dataset\u001b[0;34m(N_SAMPLES, N_TIMES, T, params, F0, SEED, N_STRIKES, k_range, N_BROWNIANS)\u001b[0m\n\u001b[1;32m    121\u001b[0m     )\n\u001b[1;32m    122\u001b[0m \u001b[0;34m\u001b[0m\u001b[0m\n\u001b[0;32m--> 123\u001b[0;31m     X_df[\"sabr_expansion_BS_call\"] = X_df[\"K\"].values * jax_BS_call(\n\u001b[0m\u001b[1;32m    124\u001b[0m         \u001b[0mSK\u001b[0m\u001b[0;34m=\u001b[0m\u001b[0;34m-\u001b[0m\u001b[0mnp\u001b[0m\u001b[0;34m.\u001b[0m\u001b[0mlog\u001b[0m\u001b[0;34m(\u001b[0m\u001b[0mX_df\u001b[0m\u001b[0;34m[\u001b[0m\u001b[0;34m\"K\"\u001b[0m\u001b[0;34m]\u001b[0m\u001b[0;34m.\u001b[0m\u001b[0mvalues\u001b[0m\u001b[0;34m)\u001b[0m\u001b[0;34m,\u001b[0m\u001b[0;34m\u001b[0m\u001b[0;34m\u001b[0m\u001b[0m\n\u001b[1;32m    125\u001b[0m         \u001b[0msigma_tau\u001b[0m\u001b[0;34m=\u001b[0m\u001b[0mX_df\u001b[0m\u001b[0;34m[\u001b[0m\u001b[0;34m\"sabr_expansion_vols\"\u001b[0m\u001b[0;34m]\u001b[0m\u001b[0;34m.\u001b[0m\u001b[0mvalues\u001b[0m \u001b[0;34m*\u001b[0m \u001b[0mnp\u001b[0m\u001b[0;34m.\u001b[0m\u001b[0msqrt\u001b[0m\u001b[0;34m(\u001b[0m\u001b[0mX_df\u001b[0m\u001b[0;34m[\u001b[0m\u001b[0;34m\"ttm\"\u001b[0m\u001b[0;34m]\u001b[0m\u001b[0;34m.\u001b[0m\u001b[0mvalues\u001b[0m\u001b[0;34m)\u001b[0m\u001b[0;34m,\u001b[0m\u001b[0;34m\u001b[0m\u001b[0;34m\u001b[0m\u001b[0m\n",
      "\u001b[0;31mNameError\u001b[0m: name 'jax_BS_call' is not defined"
     ]
    }
   ],
   "source": [
    "\"\"\"\n",
    "Set Parameters\n",
    "\"\"\"\n",
    "SEED = 42\n",
    "rng = default_rng(SEED)\n",
    "\n",
    "\"\"\"\n",
    "Fix Terminal Maturity\n",
    "\"\"\"\n",
    "\n",
    "def make_sabr_dataset(N_SAMPLES = 100, N_TIMES = 100, T = 1, \n",
    "                      params = {\"vol_of_vol\": (1e-3, 1.0),\n",
    "                               \"beta\": (1, 1),\n",
    "                               \"rho\": (-0.97, 0),\n",
    "                               \"v0\":(0.1, 0.3)},\n",
    "                                F0 = 1.0,\n",
    "                     SEED = 42,\n",
    "                      N_STRIKES = 16,\n",
    "                      k_range = (-4.0 , 3.0),\n",
    "                     N_BROWNIANS = 2**15):\n",
    "\n",
    "    dt = T / (N_TIMES)\n",
    "    ts = np.linspace(dt, T, N_TIMES).reshape((1, -1))\n",
    "\n",
    "\n",
    "    \"\"\"\n",
    "    Define Paramters\n",
    "    \"\"\"\n",
    "    from numpy.random import default_rng\n",
    "    rng = default_rng(SEED)\n",
    "    params_df = pd.DataFrame({x: rng.uniform(params[x][0], params[x][1], N_SAMPLES) for x in params})\n",
    "    \n",
    "    vol_of_vols = params_df['vol_of_vol'].values.reshape((-1, 1))\n",
    "    betas = params_df['beta'].values\n",
    "    rhos = params_df['rho'].values\n",
    "    V0s = params_df['v0'].values.reshape((-1, 1))\n",
    "    Z1 = rng.standard_normal((N_BROWNIANS, N_TIMES))\n",
    "    Z2 = rng.standard_normal((N_BROWNIANS, N_TIMES))\n",
    "    \n",
    "    Ks = np.exp(np.linspace(k_range[0], k_range[1], N_STRIKES)).reshape((1, 1, -1))\n",
    "\n",
    "    \"\"\"\n",
    "    Generate dataset via MC\n",
    "    Combine to create dataset\n",
    "    \"\"\"\n",
    "    all_calls = []\n",
    "    all_digitals = []\n",
    "\n",
    "    Xs = []\n",
    "    calls = []\n",
    "    digitals = []\n",
    "    feat_names = [\"K\", \"ttm\", \"v0\", \"vol_of_vol\", \"beta\", \"rho\"]\n",
    "    f_to_i = lambda x: feat_names.index(x)\n",
    "\n",
    "    gen_time = time.time()\n",
    "    for i in tqdm(range(N_SAMPLES)):\n",
    "        # exact simulation of the volatility process\n",
    "        vol_of_vol, beta, rho, V0 = vol_of_vols[i], betas[i], rhos[i], V0s[i]\n",
    "        Vt = np.hstack(\n",
    "            [\n",
    "                V0\n",
    "                * np.exp(\n",
    "                    -(0.5 * vol_of_vol**2) * ts\n",
    "                    + vol_of_vol * np.sqrt(dt) * np.cumsum(Z2, axis=1)\n",
    "                )\n",
    "            ]\n",
    "        )\n",
    "        Ft = np.zeros((N_BROWNIANS, N_TIMES + 1))\n",
    "        Ft[:, 0] = F0  # fix F0 = 1.0\n",
    "\n",
    "        deltas = np.zeros((N_BROWNIANS, N_TIMES + 1))\n",
    "\n",
    "        for i in range(N_TIMES):\n",
    "            Ft[:, i + 1] = cev_step(Ft[:, i], Vt[:, i], beta, dt, Z1[:, i], rho, Z2[:, i])\n",
    "\n",
    "        call_surface = np.mean(\n",
    "            np.maximum(Ft[:, 1:].reshape((N_BROWNIANS, N_TIMES, 1)) - Ks, 0), axis=0\n",
    "        ).T\n",
    "        digital_surface = np.mean(\n",
    "            (Ft[:, 1:].reshape((N_BROWNIANS, N_TIMES, 1)) > Ks), axis=0\n",
    "        ).T\n",
    "\n",
    "        temp = np.zeros((N_TIMES * N_STRIKES, 6))  # F, K, ttm, alpha, beta, rho, vol_of_vol\n",
    "        temp[:, [0, 1]] = np.vstack(\n",
    "            [\n",
    "                np.repeat(Ks, N_TIMES),  # strikes\n",
    "                np.repeat(ts, N_STRIKES).reshape((N_STRIKES, -1)).T.reshape(-1),\n",
    "            ]\n",
    "        ).T\n",
    "        temp[:, f_to_i(\"v0\")] = V0\n",
    "        temp[:, f_to_i(\"beta\")] = beta\n",
    "        temp[:, f_to_i(\"vol_of_vol\")] = vol_of_vol\n",
    "        temp[:, f_to_i(\"rho\")] = rho\n",
    "        Xs += [temp]\n",
    "\n",
    "        calls += [call_surface.reshape(-1)]\n",
    "        digitals += [digital_surface.reshape(-1)]\n",
    "        \n",
    "\n",
    "        Xs = np.concatenate(Xs)\n",
    "        X_df = pd.DataFrame(Xs, columns=feat_names)\n",
    "        X_df[\"call_MC\"] = np.concatenate(calls)\n",
    "        X_df[\"digital_MC\"] = np.concatenate(digitals)\n",
    "        end_time = time.time()\n",
    "\n",
    "        # print(Xs.shape, ys.shape)\n",
    "        assert np.concatenate(calls).shape[0] == Xs.shape[0]\n",
    "        assert np.concatenate(digitals).shape[0] == Xs.shape[0]\n",
    "\n",
    "        \"\"\"\n",
    "        Writeout to csv\n",
    "        \"\"\"\n",
    "        return X_df\n",
    "\n",
    "\n",
    "X_df_train = make_sabr_dataset(N_SAMPLES = 100, N_TIMES = 100, T = 1, \n",
    "                  params = {\"vol_of_vol\": (1e-3, 1.0),\n",
    "                           \"beta\": (1, 1),\n",
    "                           \"rho\": (-0.97, 0),\n",
    "                           \"v0\":(0.1, 0.3)},\n",
    "                            F0 = 1.0,\n",
    "                 SEED = 42,\n",
    "                  N_STRIKES = 16,\n",
    "                  k_range = (-4.0 , 3.0),\n",
    "                 N_BROWNIANS = 2**15)\n",
    "print(gen_time, X_df_train.shape)\n",
    "# \"\"\"\n",
    "# Compute SABR approximation\n",
    "# \"\"\"\n",
    "# scaling = 1\n",
    "# X_df[\"sabr_expansion_vols\"] = sabr_expansion(\n",
    "#     F=1.0,\n",
    "#     K=X_df[\"K\"].values,\n",
    "#     vol=X_df[\"v0\"].values * scaling ** (X_df[\"beta\"] - 1).values,\n",
    "#     vol_of_vol=X_df[\"vol_of_vol\"].values,\n",
    "#     beta=X_df[\"beta\"].values,\n",
    "#     rho=X_df[\"rho\"].values,\n",
    "#     ttm=X_df[\"ttm\"].values,\n",
    "# )\n",
    "\n",
    "# X_df[\"sabr_expansion_BS_call\"] = X_df[\"K\"].values * jax_bs_call(\n",
    "#     SK=-np.log(X_df[\"K\"].values),\n",
    "#     sigma_tau=X_df[\"sabr_expansion_vols\"].values * np.sqrt(X_df[\"ttm\"].values),\n",
    "# )\n",
    "\n",
    "# X_df[\"sabr_expansion_BS_digital\"] = jax_bs_digital(\n",
    "#     SK=-np.log(X_df[\"K\"].values),\n",
    "#     sigma_tau=X_df[\"sabr_expansion_vols\"].values * np.sqrt(X_df[\"ttm\"].values),\n",
    "# )\n",
    "X_df.to_csv(\"datasets/X_df_train.csv\", index=False)\n",
    "display(X_df)"
   ]
  },
  {
   "cell_type": "code",
   "execution_count": null,
   "id": "4de9860c-3bdc-474c-aa09-276dc73069bc",
   "metadata": {},
   "outputs": [],
   "source": [
    "\"\"\"\n",
    "Visualise data\n",
    "\"\"\"\n",
    "# Marginal Distributions of Parameter Space\n",
    "fig, ax = plt.subplots(figsize=(5 * len(feat_names), 5), ncols=len(feat_names))\n",
    "for i in range(len(feat_names)):\n",
    "    X_df.iloc[:, i].plot(kind=\"hist\", ax=ax[i], bins=50)\n",
    "    ax[i].set_title(feat_names[i])\n",
    "# Terminal Distribution of underlying\n",
    "fig, ax = plt.subplots(ncols=2)\n",
    "sns.scatterplot(x=X_df[\"K\"], y=X_df[\"ttm\"], ax=ax[1])\n",
    "# sns.histplot(Ft[:, -1], ax = ax[0])\n",
    "ax[0].set_title(\"Terminal Distribution of log S/K\")\n",
    "ax[0].set_xlabel(\"S/K\")\n",
    "ax[1].set_title(\"Sample Space\")\n",
    "ax[1].set_xlabel(\"S/K\")\n",
    "ax[1].set_ylabel(\"ttm\")\n",
    "# sample payoff, intrinsic val v S/K\n",
    "\n",
    "fig, ax = plt.subplots(ncols=2, figsize=(10, 5))\n",
    "intrinsic_val = np.maximum(1.0 - X_df[\"K\"], 0)\n",
    "sns.scatterplot(x=X_df[\"K\"], y=X_df[\"call_MC\"], hue=X_df[\"ttm\"], ax=ax[0])\n",
    "sns.scatterplot(x=X_df[\"K\"], y=intrinsic_val, ax=ax[0])\n",
    "ax[0].set_title(\"Sample payoffs vs Moneyness\")\n",
    "# sns.scatterplot(x = X_df['S/K'], y = X_df['call_true'], hue = X_df['ttm'], ax = ax[1])\n",
    "# ax[1].set_title(\"True payoffs vs Monyness\")"
   ]
  },
  {
   "cell_type": "code",
   "execution_count": null,
   "id": "0608c0d7-4527-46ac-9d26-3f85835d8edd",
   "metadata": {},
   "outputs": [],
   "source": [
    "subsample = X_df.sample(1000)\n",
    "sns.scatterplot(np.log(subsample[\"K\"]), subsample[\"digital_MC\"], hue=subsample[\"ttm\"])"
   ]
  },
  {
   "cell_type": "code",
   "execution_count": 186,
   "id": "66abd37d-bcaa-4cbb-bb48-8e43dc85088d",
   "metadata": {},
   "outputs": [
    {
     "data": {
      "text/plain": [
       "Text(0.5, 1.0, 'SABR Expansion vs MC')"
      ]
     },
     "execution_count": 186,
     "metadata": {},
     "output_type": "execute_result"
    },
    {
     "data": {
      "image/png": "[encoded data removed]",
      "text/plain": [
       "<Figure size 720x360 with 2 Axes>"
      ]
     },
     "metadata": {},
     "output_type": "display_data"
    }
   ],
   "source": [
    "fig, ax = plt.subplots(ncols=2, figsize=(10, 5))\n",
    "sns.scatterplot(X_df[\"call_MC\"], X_df[\"sabr_expansion_BS_call\"], ax=ax[0])\n",
    "\n",
    "sns.scatterplot(X_df[\"digital_MC\"], X_df[\"sabr_expansion_BS_digital\"], ax=ax[1])\n",
    "ax[0].set_title(\"SABR Expansion vs MC\")\n",
    "ax[1].set_title(\"SABR Expansion vs MC\")"
   ]
  },
  {
   "cell_type": "code",
   "execution_count": null,
   "id": "f7b03066-ee2b-4903-8fb8-502aa896c3c0",
   "metadata": {},
   "outputs": [],
   "source": []
  }
 ],
 "metadata": {
  "kernelspec": {
   "display_name": "Python 3 (ipykernel)",
   "language": "python",
   "name": "python3"
  },
  "language_info": {
   "codemirror_mode": {
    "name": "ipython",
    "version": 3
   },
   "file_extension": ".py",
   "mimetype": "text/x-python",
   "name": "python",
   "nbconvert_exporter": "python",
   "pygments_lexer": "ipython3",
   "version": "3.9.1"
  }
 },
 "nbformat": 4,
 "nbformat_minor": 5
}
