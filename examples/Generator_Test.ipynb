{
 "cells": [
  {
   "cell_type": "code",
   "execution_count": 3,
   "id": "eb24daa5-472a-49bc-bdf8-081fcc3cf7bd",
   "metadata": {},
   "outputs": [],
   "source": [
    "from heston import (\n",
    "    cir_step,\n",
    "    heston_step,\n",
    "    heston_call_quad,\n",
    "    heston_cdf,\n",
    "    heston_density_quad,\n",
    "    heston_characteristic,\n",
    ")\n",
    "from tqdm.notebook import tqdm\n",
    "import numpy as np\n",
    "import matplotlib.pyplot as plt"
   ]
  },
  {
   "cell_type": "markdown",
   "id": "4aaa2d04-16ca-45fe-8bf4-77ea2116c1af",
   "metadata": {},
   "source": [
    "# Heston\n",
    "| Check|Passed | \n",
    "| -- | -- |\n",
    "| Calls Decreasing in Strike | ✅ |\n",
    "| Calls above intrinsic value | ✅ |\n",
    "| Calls for ttm = 0 are intrinsic value | ✅ |\n",
    "| CDF bounded by 0 and 1| ✅ |\n",
    "| CDF increasing | ✅ |\n",
    "| CDF for ttm = 0 looks like dirac | ✅ |\n",
    "| Non-negtive density | ✅ |\n",
    "\n",
    "+ Heston call price is wrong"
   ]
  },
  {
   "cell_type": "code",
   "execution_count": 8,
   "id": "fb316019-cc17-4388-8ae2-07bb3ed3635e",
   "metadata": {},
   "outputs": [
    {
     "data": {
      "application/vnd.jupyter.widget-view+json": {
       "model_id": "67700a7e51da4d2e8bdf483ecf01722d",
       "version_major": 2,
       "version_minor": 0
      },
      "text/plain": [
       "  0%|          | 0/30 [00:00<?, ?it/s]"
      ]
     },
     "metadata": {},
     "output_type": "display_data"
    },
    {
     "data": {
      "text/plain": [
       "[<matplotlib.lines.Line2D at 0x11807df10>]"
      ]
     },
     "execution_count": 8,
     "metadata": {},
     "output_type": "execute_result"
    },
    {
     "data": {
      "image/png": "[encoded data removed]",
      "text/plain": [
       "<Figure size 432x288 with 1 Axes>"
      ]
     },
     "metadata": {
      "needs_background": "light"
     },
     "output_type": "display_data"
    }
   ],
   "source": [
    "tau = 1\n",
    "v = 0.2\n",
    "kappa = 0\n",
    "vbar = 0.2\n",
    "vol_of_vol = 0.2\n",
    "rho = 0\n",
    "ks = np.linspace(-5, 2, 30)\n",
    "from scipy.integrate import quad\n",
    "\n",
    "\n",
    "def heston_call_quad(k, tau, v, kappa, vbar, vol_of_vol, rho):\n",
    "    func = lambda u: heston_density_quad(u, tau, v, kappa, vbar, vol_of_vol, rho)\n",
    "    vec_fun = np.vectorize(func)\n",
    "    grid = np.linspace(k, 100, 100)\n",
    "    dx = np.diff(grid)[0]\n",
    "    # return np.sum(np.maximum(np.exp(grid) - 1.0, 0) * vec_func(grid) * dx)\n",
    "    return quad(\n",
    "        lambda y: np.maximum((np.exp(y) - 1.0), 0) * func(y),\n",
    "        k,\n",
    "        10,\n",
    "        limit=30,\n",
    "        epsabs=1e-6,\n",
    "        epsrel=1e-6,\n",
    "    )[0]\n",
    "\n",
    "\n",
    "calls = [heston_call_quad(k, tau, v, kappa, vbar, vol_of_vol, rho) for k in tqdm(ks)]\n",
    "plt.plot(np.exp(ks), calls)\n",
    "# heston_call_quad(1e-2, tau, v, kappa, vbar, vol_of_vol, rho)"
   ]
  },
  {
   "cell_type": "code",
   "execution_count": 12,
   "id": "df498db8-f183-496d-91a6-cba1e57d45a2",
   "metadata": {},
   "outputs": [
    {
     "data": {
      "text/plain": [
       "[<matplotlib.lines.Line2D at 0x118235340>]"
      ]
     },
     "execution_count": 12,
     "metadata": {},
     "output_type": "execute_result"
    },
    {
     "data": {
      "image/png": "[encoded data removed]",
      "text/plain": [
       "<Figure size 432x288 with 1 Axes>"
      ]
     },
     "metadata": {
      "needs_background": "light"
     },
     "output_type": "display_data"
    }
   ],
   "source": [
    "plt.plot(np.exp(ks), np.maximum(1.0 - np.exp(ks), 0))"
   ]
  },
  {
   "cell_type": "code",
   "execution_count": null,
   "id": "0abb453c-23fa-4c9d-a912-8650629e5f4a",
   "metadata": {},
   "outputs": [],
   "source": [
    "plt.plot(\n",
    "    xs,\n",
    "    [\n",
    "        heston_density(x, tau=1, v=0.2, kappa=0, vbar=0.2, vol_of_vol=0.2, rho=0)\n",
    "        for x in xs\n",
    "    ],\n",
    ")"
   ]
  },
  {
   "cell_type": "code",
   "execution_count": 78,
   "id": "2a2d9fb6-64cd-4e9e-b4fe-11540aaf7235",
   "metadata": {},
   "outputs": [
    {
     "name": "stdout",
     "output_type": "stream",
     "text": [
      "CPU times: user 5.08 ms, sys: 164 µs, total: 5.25 ms\n",
      "Wall time: 5.25 ms\n"
     ]
    },
    {
     "data": {
      "text/plain": [
       "4.409686546685554"
      ]
     },
     "execution_count": 78,
     "metadata": {},
     "output_type": "execute_result"
    }
   ],
   "source": [
    "%%time\n",
    "c_func = lambda u: heston_characteristic(u, tau, v, kappa, vbar, vol_of_vol, rho)\n",
    "a1 = (\n",
    "    0.5\n",
    "    * np.pi\n",
    "    * quad(lambda u: np.real(np.exp(c_func(u) + 1j * u * k)), 0, 100, limit=1000)[0]\n",
    ")\n",
    "a1"
   ]
  },
  {
   "cell_type": "code",
   "execution_count": 84,
   "id": "0d3f4bb5-5d05-4cf1-80a4-6ed24e7647a3",
   "metadata": {},
   "outputs": [
    {
     "name": "stdout",
     "output_type": "stream",
     "text": [
      "CPU times: user 1.49 ms, sys: 1.05 ms, total: 2.54 ms\n",
      "Wall time: 2.3 ms\n"
     ]
    },
    {
     "data": {
      "text/plain": [
       "4.488304979888767"
      ]
     },
     "execution_count": 84,
     "metadata": {},
     "output_type": "execute_result"
    }
   ],
   "source": [
    "%%time\n",
    "c_func = lambda u: heston_characteristic(u, tau, v, kappa, vbar, vol_of_vol, rho)\n",
    "grid = np.linspace(1e-9, 100, 1000)\n",
    "dx = np.diff(grid)[0]\n",
    "func2 = lambda u: np.real(np.exp(c_func(u) + 1j * u * k))\n",
    "a1 = 0.5 * np.pi * np.sum(func2(grid) * dx)\n",
    "a1"
   ]
  },
  {
   "cell_type": "code",
   "execution_count": 17,
   "id": "494f8620-59ea-4374-a05d-b5d52e7f8bb0",
   "metadata": {},
   "outputs": [
    {
     "data": {
      "text/plain": [
       "[<matplotlib.lines.Line2D at 0x11a602850>]"
      ]
     },
     "execution_count": 17,
     "metadata": {},
     "output_type": "execute_result"
    },
    {
     "data": {
      "image/png": "[encoded data removed]",
      "text/plain": [
       "<Figure size 432x288 with 1 Axes>"
      ]
     },
     "metadata": {
      "needs_background": "light"
     },
     "output_type": "display_data"
    }
   ],
   "source": [
    "import matplotlib.pyplot as plt\n",
    "\n",
    "plt.plot(np.maximum(np.exp(grid) - 1.0, 0) * dx)"
   ]
  },
  {
   "cell_type": "code",
   "execution_count": 83,
   "id": "d00aa5f5-71c3-481d-bf51-a4a68ee59ed9",
   "metadata": {},
   "outputs": [
    {
     "name": "stdout",
     "output_type": "stream",
     "text": [
      "CPU times: user 542 ms, sys: 8.65 ms, total: 551 ms\n",
      "Wall time: 565 ms\n"
     ]
    }
   ],
   "source": [
    "%%time\n",
    "func = lambda u: heston_density_quad(u, tau, v, kappa, vbar, vol_of_vol, rho)\n",
    "vec_func = np.vectorize(func)\n",
    "grid = np.linspace(k, 100, 100)\n",
    "dx = np.diff(grid)[0]\n",
    "a2 = quad(lambda y: np.maximum((np.exp(y) - 1.0), 0) * func(y), k, 6, limit=30)[0]"
   ]
  },
  {
   "cell_type": "markdown",
   "id": "ecea96e2-74d0-4101-9fbb-b6aa6a936cc6",
   "metadata": {},
   "source": [
    "# SABR\n",
    "| Check|Passed | \n",
    "| -- | -- |\n",
    "| Calls Decreasing in Strike | ✅ |\n",
    "| Calls above intrinsic value | ✅ |\n",
    "| Calls for ttm = 0 are intrinsic value | ✅ |\n",
    "| CDF bounded by 0 and 1| ✅ |\n",
    "| CDF increasing | ✅ |\n",
    "| CDF for ttm = 0 looks like dirac | ✅ |"
   ]
  }
 ],
 "metadata": {
  "kernelspec": {
   "display_name": "Python 3 (ipykernel)",
   "language": "python",
   "name": "python3"
  },
  "language_info": {
   "codemirror_mode": {
    "name": "ipython",
    "version": 3
   },
   "file_extension": ".py",
   "mimetype": "text/x-python",
   "name": "python",
   "nbconvert_exporter": "python",
   "pygments_lexer": "ipython3",
   "version": "3.9.1"
  }
 },
 "nbformat": 4,
 "nbformat_minor": 5
}
